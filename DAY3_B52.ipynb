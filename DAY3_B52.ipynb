{
 "cells": [
  {
   "cell_type": "code",
   "execution_count": 5,
   "id": "80a175ab",
   "metadata": {},
   "outputs": [
    {
     "name": "stdout",
     "output_type": "stream",
     "text": [
      "nithu\n"
     ]
    }
   ],
   "source": [
    "fullname='nithu'\n",
    "print(fullname)"
   ]
  },
  {
   "cell_type": "code",
   "execution_count": 6,
   "id": "7b8960c5",
   "metadata": {},
   "outputs": [
    {
     "name": "stdout",
     "output_type": "stream",
     "text": [
      "Nithu\n"
     ]
    }
   ],
   "source": [
    "print(fullname.title())"
   ]
  },
  {
   "cell_type": "code",
   "execution_count": 7,
   "id": "02c2283c",
   "metadata": {},
   "outputs": [
    {
     "name": "stdout",
     "output_type": "stream",
     "text": [
      "NITHU\n"
     ]
    }
   ],
   "source": [
    "print(fullname.upper())   "
   ]
  },
  {
   "cell_type": "code",
   "execution_count": 8,
   "id": "cfcedf68",
   "metadata": {},
   "outputs": [
    {
     "name": "stdout",
     "output_type": "stream",
     "text": [
      "nithu\n"
     ]
    }
   ],
   "source": [
    "print(fullname.lower())     #i want name in small case letter."
   ]
  },
  {
   "cell_type": "code",
   "execution_count": null,
   "id": "8e41d987",
   "metadata": {},
   "outputs": [],
   "source": []
  },
  {
   "cell_type": "code",
   "execution_count": null,
   "id": "3fed1394",
   "metadata": {},
   "outputs": [],
   "source": [
    "                                             INTRODUCTION OF f STRING**"
   ]
  },
  {
   "cell_type": "code",
   "execution_count": 28,
   "id": "dfe137c0",
   "metadata": {},
   "outputs": [],
   "source": [
    "firstname='nithish'\n",
    "lastname='nithu'"
   ]
  },
  {
   "cell_type": "code",
   "execution_count": null,
   "id": "c06923b6",
   "metadata": {},
   "outputs": [],
   "source": [
    "# general syntax of an f string.\n"
   ]
  },
  {
   "cell_type": "code",
   "execution_count": null,
   "id": "49210240",
   "metadata": {},
   "outputs": [],
   "source": [
    "f\"customer world,{placeholder1}{placeholder2}....{placeholder..n}\""
   ]
  },
  {
   "cell_type": "code",
   "execution_count": 30,
   "id": "eeb5066f",
   "metadata": {},
   "outputs": [
    {
     "name": "stdout",
     "output_type": "stream",
     "text": [
      "nithishnithu\n"
     ]
    }
   ],
   "source": [
    "fullname=f\"{firstname}{lastname}\"\n",
    "print(fullname)"
   ]
  },
  {
   "cell_type": "code",
   "execution_count": 33,
   "id": "a1c51517",
   "metadata": {},
   "outputs": [
    {
     "name": "stdout",
     "output_type": "stream",
     "text": [
      "Nithishnithu\n"
     ]
    }
   ],
   "source": [
    "print(fullname.title())"
   ]
  },
  {
   "cell_type": "code",
   "execution_count": null,
   "id": "4e4132cf",
   "metadata": {},
   "outputs": [],
   "source": [
    "#req: to appreciate nithish"
   ]
  },
  {
   "cell_type": "code",
   "execution_count": 36,
   "id": "69c58315",
   "metadata": {},
   "outputs": [
    {
     "name": "stdout",
     "output_type": "stream",
     "text": [
      "keep up the good work ,Nithishnithu\n"
     ]
    }
   ],
   "source": [
    "message=f\"keep up the good work ,{fullname.title()}\"\n",
    "print(message)"
   ]
  },
  {
   "cell_type": "code",
   "execution_count": null,
   "id": "9ff233b6",
   "metadata": {},
   "outputs": [],
   "source": [
    "                                    adding whitebspace to string:"
   ]
  },
  {
   "cell_type": "code",
   "execution_count": null,
   "id": "58747840",
   "metadata": {},
   "outputs": [],
   "source": [
    "req: survey to choose the favorite language:"
   ]
  },
  {
   "cell_type": "code",
   "execution_count": 37,
   "id": "bd55b244",
   "metadata": {},
   "outputs": [
    {
     "name": "stdout",
     "output_type": "stream",
     "text": [
      "favourite_language:pythincjavec++html\n"
     ]
    }
   ],
   "source": [
    "print(\"favourite_language:pythincjavec++html\")"
   ]
  },
  {
   "cell_type": "code",
   "execution_count": 38,
   "id": "fd181856",
   "metadata": {},
   "outputs": [
    {
     "name": "stdout",
     "output_type": "stream",
     "text": [
      "favourite_language:\n",
      "python\n",
      "c\n",
      "jave\n",
      "c++\n",
      "html\n"
     ]
    }
   ],
   "source": [
    "print(\"favourite_language:\\npython\\nc\\njave\\nc++\\nhtml\")    #\\n = new line delimiter"
   ]
  },
  {
   "cell_type": "code",
   "execution_count": 39,
   "id": "cdd8bfc1",
   "metadata": {},
   "outputs": [
    {
     "name": "stdout",
     "output_type": "stream",
     "text": [
      "favourite_language:\n",
      "\tpython\n",
      "\tc\n",
      "\tjave\n",
      "\tc++\n",
      "\thtml\n"
     ]
    }
   ],
   "source": [
    "print(\"favourite_language:\\n\\tpython\\n\\tc\\n\\tjave\\n\\tc++\\n\\thtml\")    #\\t = tab delimiter"
   ]
  },
  {
   "cell_type": "code",
   "execution_count": null,
   "id": "1dfa2096",
   "metadata": {},
   "outputs": [],
   "source": [
    "                                     REMOVING WHITESPACE FROM STRINGS:"
   ]
  },
  {
   "cell_type": "code",
   "execution_count": 40,
   "id": "7eb8e494",
   "metadata": {},
   "outputs": [
    {
     "name": "stdout",
     "output_type": "stream",
     "text": [
      "nithu\n"
     ]
    }
   ],
   "source": [
    "name=\"nithu\"\n",
    "print(name)"
   ]
  },
  {
   "cell_type": "code",
   "execution_count": 46,
   "id": "a3ed9f57",
   "metadata": {},
   "outputs": [
    {
     "name": "stdout",
     "output_type": "stream",
     "text": [
      "      nithu\n"
     ]
    }
   ],
   "source": [
    "name1='      nithu'   \n",
    "print(name1)"
   ]
  },
  {
   "cell_type": "code",
   "execution_count": 47,
   "id": "2ddfe21e",
   "metadata": {},
   "outputs": [
    {
     "name": "stdout",
     "output_type": "stream",
     "text": [
      "nithu        \n"
     ]
    }
   ],
   "source": [
    "name2='nithu        '    \n",
    "print(name2)"
   ]
  },
  {
   "cell_type": "code",
   "execution_count": 49,
   "id": "26838acf",
   "metadata": {},
   "outputs": [
    {
     "name": "stdout",
     "output_type": "stream",
     "text": [
      "nithu\n"
     ]
    }
   ],
   "source": [
    "print(name1.lstrip())       # only left check"
   ]
  },
  {
   "cell_type": "code",
   "execution_count": 50,
   "id": "4ac5bcff",
   "metadata": {},
   "outputs": [
    {
     "name": "stdout",
     "output_type": "stream",
     "text": [
      "nithu\n"
     ]
    }
   ],
   "source": [
    "print(name2.rstrip())      # only right  check"
   ]
  },
  {
   "cell_type": "code",
   "execution_count": 51,
   "id": "1e01b4f5",
   "metadata": {},
   "outputs": [
    {
     "name": "stdout",
     "output_type": "stream",
     "text": [
      "      nithu      \n"
     ]
    }
   ],
   "source": [
    "name3='      nithu      '       # both the side and the eliminate the gap\n",
    "print(name3)"
   ]
  },
  {
   "cell_type": "code",
   "execution_count": 52,
   "id": "f7ca69f2",
   "metadata": {},
   "outputs": [
    {
     "name": "stdout",
     "output_type": "stream",
     "text": [
      "nithu\n"
     ]
    }
   ],
   "source": [
    "print(name3.strip())\n"
   ]
  },
  {
   "cell_type": "code",
   "execution_count": null,
   "id": "b32994f5",
   "metadata": {},
   "outputs": [],
   "source": []
  },
  {
   "cell_type": "code",
   "execution_count": null,
   "id": "92a090ea",
   "metadata": {},
   "outputs": [],
   "source": []
  },
  {
   "cell_type": "code",
   "execution_count": null,
   "id": "6a159cc6",
   "metadata": {},
   "outputs": [],
   "source": []
  },
  {
   "cell_type": "code",
   "execution_count": null,
   "id": "80b7fc55",
   "metadata": {},
   "outputs": [],
   "source": []
  },
  {
   "cell_type": "code",
   "execution_count": null,
   "id": "b822c01b",
   "metadata": {},
   "outputs": [],
   "source": []
  },
  {
   "cell_type": "code",
   "execution_count": null,
   "id": "54c06ae9",
   "metadata": {},
   "outputs": [],
   "source": []
  }
 ],
 "metadata": {
  "kernelspec": {
   "display_name": "Python 3",
   "language": "python",
   "name": "python3"
  },
  "language_info": {
   "codemirror_mode": {
    "name": "ipython",
    "version": 3
   },
   "file_extension": ".py",
   "mimetype": "text/x-python",
   "name": "python",
   "nbconvert_exporter": "python",
   "pygments_lexer": "ipython3",
   "version": "3.8.8"
  }
 },
 "nbformat": 4,
 "nbformat_minor": 5
}
