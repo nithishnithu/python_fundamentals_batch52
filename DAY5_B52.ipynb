{
 "cells": [
  {
   "cell_type": "code",
   "execution_count": null,
   "id": "38cfa9e1",
   "metadata": {},
   "outputs": [],
   "source": [
    "ORGANISING THE LIST DATA TYPE:"
   ]
  },
  {
   "cell_type": "code",
   "execution_count": 1,
   "id": "8c57673a",
   "metadata": {},
   "outputs": [
    {
     "name": "stdout",
     "output_type": "stream",
     "text": [
      "['kia', 'benz', 'bmw', 'suzuki', 'maruthi']\n"
     ]
    }
   ],
   "source": [
    "cars=['kia','benz','bmw','suzuki','maruthi']\n",
    "print(cars)"
   ]
  },
  {
   "cell_type": "code",
   "execution_count": 2,
   "id": "084210f0",
   "metadata": {},
   "outputs": [
    {
     "data": {
      "text/plain": [
       "list"
      ]
     },
     "execution_count": 2,
     "metadata": {},
     "output_type": "execute_result"
    }
   ],
   "source": [
    "type(cars)"
   ]
  },
  {
   "cell_type": "code",
   "execution_count": null,
   "id": "114ddd21",
   "metadata": {},
   "outputs": [],
   "source": [
    "#req:i want to organise the above cars list in a alphobitical order A-------Z.....?\n",
    "\n",
    "    2 possible approches:\n",
    "        1. temp approach--->  we can able to maintain the original of list ----( sorted )\n",
    "        2. per approach--->  change are fixed , cannot go bact to orginal order----( sort )\n",
    "        "
   ]
  },
  {
   "cell_type": "code",
   "execution_count": null,
   "id": "783d491e",
   "metadata": {},
   "outputs": [],
   "source": [
    "#tem approach------(1)   A-----Z    (shorted)"
   ]
  },
  {
   "cell_type": "code",
   "execution_count": 3,
   "id": "3b3dd5cc",
   "metadata": {},
   "outputs": [
    {
     "name": "stdout",
     "output_type": "stream",
     "text": [
      "['benz', 'bmw', 'kia', 'maruthi', 'suzuki']\n"
     ]
    }
   ],
   "source": [
    "print(sorted(cars))"
   ]
  },
  {
   "cell_type": "code",
   "execution_count": null,
   "id": "2bea1028",
   "metadata": {},
   "outputs": [],
   "source": [
    "benz , bmw -----> e,m   **  #when the first letter is same its go to second letter and keet it to alphobitiac order"
   ]
  },
  {
   "cell_type": "code",
   "execution_count": null,
   "id": "cc405143",
   "metadata": {},
   "outputs": [],
   "source": [
    "# per(permanent) approach: per approach   ( sort )"
   ]
  },
  {
   "cell_type": "code",
   "execution_count": null,
   "id": "bfb0aeac",
   "metadata": {},
   "outputs": [],
   "source": []
  },
  {
   "cell_type": "code",
   "execution_count": 31,
   "id": "539931a0",
   "metadata": {},
   "outputs": [
    {
     "name": "stdout",
     "output_type": "stream",
     "text": [
      "['benz', 'bmw', 'kia', 'maruthi', 'suzuki']\n"
     ]
    }
   ],
   "source": [
    "cars.sort ()\n",
    "print(cars)"
   ]
  },
  {
   "cell_type": "code",
   "execution_count": null,
   "id": "5aa2f976",
   "metadata": {},
   "outputs": [],
   "source": []
  },
  {
   "cell_type": "code",
   "execution_count": null,
   "id": "b1ddcae1",
   "metadata": {},
   "outputs": [],
   "source": [
    "# req: hoe to print the list in a reverse ordre....?**"
   ]
  },
  {
   "cell_type": "code",
   "execution_count": 11,
   "id": "d89fbfe1",
   "metadata": {},
   "outputs": [
    {
     "name": "stdout",
     "output_type": "stream",
     "text": [
      "['kia', 'benz', 'bmw', 'suzuki', 'maruthi']\n"
     ]
    }
   ],
   "source": [
    "print(cars)"
   ]
  },
  {
   "cell_type": "code",
   "execution_count": 13,
   "id": "ba94775c",
   "metadata": {},
   "outputs": [
    {
     "name": "stdout",
     "output_type": "stream",
     "text": [
      "['maruthi', 'suzuki', 'bmw', 'benz', 'kia']\n"
     ]
    }
   ],
   "source": [
    "cars.reverse()    # the changes are applied permantly.\n",
    "print(cars)"
   ]
  },
  {
   "cell_type": "code",
   "execution_count": 14,
   "id": "bcedcbbe",
   "metadata": {},
   "outputs": [
    {
     "name": "stdout",
     "output_type": "stream",
     "text": [
      "['maruthi', 'suzuki', 'bmw', 'benz', 'kia']\n"
     ]
    }
   ],
   "source": [
    "print(cars)"
   ]
  },
  {
   "cell_type": "code",
   "execution_count": null,
   "id": "1bd4c84e",
   "metadata": {},
   "outputs": [],
   "source": []
  },
  {
   "cell_type": "code",
   "execution_count": null,
   "id": "ec5cdf12",
   "metadata": {},
   "outputs": [],
   "source": [
    "# to count the no.of elements in the list....?"
   ]
  },
  {
   "cell_type": "code",
   "execution_count": 15,
   "id": "35e6af08",
   "metadata": {},
   "outputs": [
    {
     "data": {
      "text/plain": [
       "5"
      ]
     },
     "execution_count": 15,
     "metadata": {},
     "output_type": "execute_result"
    }
   ],
   "source": [
    "len(cars)"
   ]
  },
  {
   "cell_type": "code",
   "execution_count": null,
   "id": "1fe7d3b7",
   "metadata": {},
   "outputs": [],
   "source": [
    "SLICING OF LIST:"
   ]
  },
  {
   "cell_type": "code",
   "execution_count": 16,
   "id": "b79ffad0",
   "metadata": {},
   "outputs": [
    {
     "name": "stdout",
     "output_type": "stream",
     "text": [
      "['suvi', 'nithu', 'kavi', 'arun', 'shiva', 'vino']\n"
     ]
    }
   ],
   "source": [
    "students=['suvi','nithu','kavi','arun','shiva','vino']\n",
    "print(students)"
   ]
  },
  {
   "cell_type": "code",
   "execution_count": null,
   "id": "c72a22ce",
   "metadata": {},
   "outputs": [],
   "source": [
    "GENERAL SYNTAX OF SLICING:\n",
    "    \n",
    "    star value:stop value:step count-------> INDEXING\n",
    "            \n",
    "            NOTE 1 : last value or step value is alwasys exclusive , that means it will be included in parts of the slice.\n",
    "                \n",
    "            NOTE 2 : increment the index by 1 to include the last value or step value.    "
   ]
  },
  {
   "cell_type": "code",
   "execution_count": null,
   "id": "93b1546b",
   "metadata": {},
   "outputs": [],
   "source": [
    "# req : i want to include ' suvi' and 'nithu' in the same slice."
   ]
  },
  {
   "cell_type": "code",
   "execution_count": 23,
   "id": "81b9f16d",
   "metadata": {},
   "outputs": [
    {
     "name": "stdout",
     "output_type": "stream",
     "text": [
      "['suvi']\n"
     ]
    }
   ],
   "source": [
    "print(students[0:1])"
   ]
  },
  {
   "cell_type": "code",
   "execution_count": 24,
   "id": "12ce3d7b",
   "metadata": {},
   "outputs": [
    {
     "name": "stdout",
     "output_type": "stream",
     "text": [
      "['suvi', 'nithu']\n"
     ]
    }
   ],
   "source": [
    "print(students[0:2])"
   ]
  },
  {
   "cell_type": "code",
   "execution_count": 25,
   "id": "94c2cc80",
   "metadata": {},
   "outputs": [
    {
     "name": "stdout",
     "output_type": "stream",
     "text": [
      "['kavi', 'arun']\n"
     ]
    }
   ],
   "source": [
    "print(students[2:4])"
   ]
  },
  {
   "cell_type": "code",
   "execution_count": null,
   "id": "73163f54",
   "metadata": {},
   "outputs": [],
   "source": [
    "#req : i want to include shiva and vino in the same slice ?"
   ]
  },
  {
   "cell_type": "code",
   "execution_count": 26,
   "id": "cd113607",
   "metadata": {},
   "outputs": [
    {
     "name": "stdout",
     "output_type": "stream",
     "text": [
      "['shiva', 'vino']\n"
     ]
    }
   ],
   "source": [
    "print(students[4:6])"
   ]
  },
  {
   "cell_type": "code",
   "execution_count": 27,
   "id": "05b2779c",
   "metadata": {},
   "outputs": [
    {
     "name": "stdout",
     "output_type": "stream",
     "text": [
      "['suvi', 'kavi', 'shiva']\n"
     ]
    }
   ],
   "source": [
    "print(students[0:6:2])  "
   ]
  },
  {
   "cell_type": "code",
   "execution_count": 28,
   "id": "7abcc547",
   "metadata": {},
   "outputs": [
    {
     "name": "stdout",
     "output_type": "stream",
     "text": [
      "['suvi', 'nithu', 'kavi', 'arun', 'shiva', 'vino']\n"
     ]
    }
   ],
   "source": [
    "print(students)"
   ]
  },
  {
   "cell_type": "code",
   "execution_count": null,
   "id": "892cbd36",
   "metadata": {},
   "outputs": [],
   "source": []
  },
  {
   "cell_type": "code",
   "execution_count": null,
   "id": "c3cc2b14",
   "metadata": {},
   "outputs": [],
   "source": []
  }
 ],
 "metadata": {
  "kernelspec": {
   "display_name": "Python 3",
   "language": "python",
   "name": "python3"
  },
  "language_info": {
   "codemirror_mode": {
    "name": "ipython",
    "version": 3
   },
   "file_extension": ".py",
   "mimetype": "text/x-python",
   "name": "python",
   "nbconvert_exporter": "python",
   "pygments_lexer": "ipython3",
   "version": "3.8.8"
  }
 },
 "nbformat": 4,
 "nbformat_minor": 5
}
