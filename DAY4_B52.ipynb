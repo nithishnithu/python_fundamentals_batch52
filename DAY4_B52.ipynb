{
 "cells": [
  {
   "cell_type": "code",
   "execution_count": null,
   "id": "92a80004",
   "metadata": {},
   "outputs": [],
   "source": [
    "INTRODUCTION TO LIST DATA TYPE:\n",
    "    \n",
    "    \n",
    "    DEFINITION: a list is a collection of items in a perticular order\n",
    "     \n",
    "    CLASSIFICATION: it is classified as a mutable datatype.\n",
    "        \n",
    "        LIST-----> []\n",
    "        "
   ]
  },
  {
   "cell_type": "code",
   "execution_count": 58,
   "id": "4bd89a6d",
   "metadata": {},
   "outputs": [
    {
     "name": "stdout",
     "output_type": "stream",
     "text": [
      "['shive', 'nithu', 'kavi', 'arun']\n"
     ]
    }
   ],
   "source": [
    "student=['shive','nithu','kavi','arun']\n",
    "print(student)"
   ]
  },
  {
   "cell_type": "code",
   "execution_count": 59,
   "id": "cd1980db",
   "metadata": {},
   "outputs": [
    {
     "data": {
      "text/plain": [
       "list"
      ]
     },
     "execution_count": 59,
     "metadata": {},
     "output_type": "execute_result"
    }
   ],
   "source": [
    "type(student)"
   ]
  },
  {
   "cell_type": "code",
   "execution_count": 60,
   "id": "a6f476d5",
   "metadata": {},
   "outputs": [
    {
     "name": "stdout",
     "output_type": "stream",
     "text": [
      "['shive', 'nithu', 'kavi', 'arun']\n"
     ]
    }
   ],
   "source": [
    "print(student)"
   ]
  },
  {
   "cell_type": "code",
   "execution_count": null,
   "id": "b636fab2",
   "metadata": {},
   "outputs": [],
   "source": [
    "#req: how to acess the element from list...?\n",
    "indexing:0,1,2,3,4,5........."
   ]
  },
  {
   "cell_type": "code",
   "execution_count": 61,
   "id": "26fe8939",
   "metadata": {},
   "outputs": [
    {
     "name": "stdout",
     "output_type": "stream",
     "text": [
      "arun\n"
     ]
    }
   ],
   "source": [
    "print(student[3])"
   ]
  },
  {
   "cell_type": "code",
   "execution_count": 50,
   "id": "24b0a63a",
   "metadata": {},
   "outputs": [
    {
     "name": "stdout",
     "output_type": "stream",
     "text": [
      "kavi\n"
     ]
    }
   ],
   "source": [
    "print(student[2])"
   ]
  },
  {
   "cell_type": "code",
   "execution_count": 62,
   "id": "8c844662",
   "metadata": {},
   "outputs": [
    {
     "name": "stdout",
     "output_type": "stream",
     "text": [
      "Kavi\n"
     ]
    }
   ],
   "source": [
    "print(student[2].title())    #title ; print starting letter bold"
   ]
  },
  {
   "cell_type": "code",
   "execution_count": null,
   "id": "263e18bb",
   "metadata": {},
   "outputs": [],
   "source": [
    "[1] how to add new elements to the list.\n",
    "[2] how to modify the elements in the list.\n",
    "[3] how to delet the elements in the list."
   ]
  },
  {
   "cell_type": "code",
   "execution_count": null,
   "id": "cc849695",
   "metadata": {},
   "outputs": [],
   "source": [
    "#req: i want to add 'suviii' to the above list."
   ]
  },
  {
   "cell_type": "code",
   "execution_count": 63,
   "id": "3e1fd332",
   "metadata": {},
   "outputs": [
    {
     "name": "stdout",
     "output_type": "stream",
     "text": [
      "['shive', 'nithu', 'kavi', 'arun']\n"
     ]
    }
   ],
   "source": [
    "print(student)"
   ]
  },
  {
   "cell_type": "code",
   "execution_count": 64,
   "id": "230225af",
   "metadata": {},
   "outputs": [
    {
     "name": "stdout",
     "output_type": "stream",
     "text": [
      "['shive', 'nithu', 'kavi', 'arun', 'suvii']\n"
     ]
    }
   ],
   "source": [
    "student.append('suvii')\n",
    "print(student)"
   ]
  },
  {
   "cell_type": "code",
   "execution_count": null,
   "id": "a9fbcd41",
   "metadata": {},
   "outputs": [],
   "source": [
    "# req : i want to add \"jack\" to the list..?"
   ]
  },
  {
   "cell_type": "code",
   "execution_count": 65,
   "id": "dc99c9a4",
   "metadata": {},
   "outputs": [
    {
     "name": "stdout",
     "output_type": "stream",
     "text": [
      "['shive', 'nithu', 'kavi', 'arun', 'suvii', 'jack']\n"
     ]
    }
   ],
   "source": [
    "student.append('jack')\n",
    "print(student)"
   ]
  },
  {
   "cell_type": "code",
   "execution_count": null,
   "id": "fea7dd6e",
   "metadata": {},
   "outputs": [],
   "source": [
    "[2]    #req : i want to modify kavi name to saran...?"
   ]
  },
  {
   "cell_type": "code",
   "execution_count": 66,
   "id": "df56b038",
   "metadata": {},
   "outputs": [
    {
     "name": "stdout",
     "output_type": "stream",
     "text": [
      "['shive', 'nithu', 'saran', 'arun', 'suvii', 'jack']\n"
     ]
    }
   ],
   "source": [
    "student[2]='saran'\n",
    "print(student)"
   ]
  },
  {
   "cell_type": "code",
   "execution_count": null,
   "id": "b94cdf28",
   "metadata": {},
   "outputs": [],
   "source": [
    "[3]    # req: how to delet the element in a list...?"
   ]
  },
  {
   "cell_type": "code",
   "execution_count": 68,
   "id": "2540b646",
   "metadata": {},
   "outputs": [
    {
     "name": "stdout",
     "output_type": "stream",
     "text": [
      "['shive', 'nithu', 'arun', 'suvii', 'jack']\n"
     ]
    }
   ],
   "source": [
    "del student[2]\n",
    "print(student)"
   ]
  },
  {
   "cell_type": "code",
   "execution_count": 69,
   "id": "14b6f89e",
   "metadata": {},
   "outputs": [],
   "source": [
    "#################### INTERVIEW QUESTIONS #########################"
   ]
  },
  {
   "cell_type": "code",
   "execution_count": null,
   "id": "34fd1ae6",
   "metadata": {},
   "outputs": [],
   "source": [
    "# WHAT IS THE DIFFERENT BETWEEN append AND insert ?\n",
    "\n",
    "ANSWER:\n",
    "\n",
    "    both append and insert are used an element to a list.\n",
    "    *append element is used to added to the place of list\n",
    "    *insert element is used to specify thew place or number to which element should be added "
   ]
  },
  {
   "cell_type": "code",
   "execution_count": 70,
   "id": "8e46acad",
   "metadata": {},
   "outputs": [
    {
     "name": "stdout",
     "output_type": "stream",
     "text": [
      "['shive', 'nithu', 'arun', 'suvii', 'jack', 'adding append']\n"
     ]
    }
   ],
   "source": [
    "student.append('adding append')\n",
    "print (student)"
   ]
  },
  {
   "cell_type": "code",
   "execution_count": 71,
   "id": "99c062cb",
   "metadata": {},
   "outputs": [
    {
     "name": "stdout",
     "output_type": "stream",
     "text": [
      "['shive', 'nithu', 'inser element', 'suvii', 'jack', 'adding append']\n"
     ]
    }
   ],
   "source": [
    "student[2]='inser element'\n",
    "print(student)"
   ]
  },
  {
   "cell_type": "code",
   "execution_count": null,
   "id": "733d4e76",
   "metadata": {},
   "outputs": [],
   "source": []
  }
 ],
 "metadata": {
  "kernelspec": {
   "display_name": "Python 3",
   "language": "python",
   "name": "python3"
  },
  "language_info": {
   "codemirror_mode": {
    "name": "ipython",
    "version": 3
   },
   "file_extension": ".py",
   "mimetype": "text/x-python",
   "name": "python",
   "nbconvert_exporter": "python",
   "pygments_lexer": "ipython3",
   "version": "3.8.8"
  }
 },
 "nbformat": 4,
 "nbformat_minor": 5
}
