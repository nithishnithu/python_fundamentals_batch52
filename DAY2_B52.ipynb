{
 "cells": [
  {
   "cell_type": "code",
   "execution_count": null,
   "id": "75c3ba8d",
   "metadata": {},
   "outputs": [],
   "source": [
    "understanding the variable in python:"
   ]
  },
  {
   "cell_type": "code",
   "execution_count": 18,
   "id": "d7ecb507",
   "metadata": {},
   "outputs": [
    {
     "name": "stdout",
     "output_type": "stream",
     "text": [
      "11\n"
     ]
    }
   ],
   "source": [
    "x=6\n",
    "y=5\n",
    "z=x+y\n",
    "print(z)"
   ]
  },
  {
   "cell_type": "code",
   "execution_count": null,
   "id": "b38bcb6a",
   "metadata": {},
   "outputs": [],
   "source": [
    "rules to for declearing the variable in python:"
   ]
  },
  {
   "cell_type": "code",
   "execution_count": null,
   "id": "778a4875",
   "metadata": {},
   "outputs": [],
   "source": [
    "1. name sapce while declaring the variable:"
   ]
  },
  {
   "cell_type": "code",
   "execution_count": 20,
   "id": "0c62f57a",
   "metadata": {},
   "outputs": [
    {
     "name": "stdout",
     "output_type": "stream",
     "text": [
      "nithu\n"
     ]
    }
   ],
   "source": [
    "firstname=\"nithu\"\n",
    "print(firstname)"
   ]
  },
  {
   "cell_type": "code",
   "execution_count": null,
   "id": "0b3b7c45",
   "metadata": {},
   "outputs": [],
   "source": [
    "2. variable name should not start with a number."
   ]
  },
  {
   "cell_type": "code",
   "execution_count": 21,
   "id": "4525a30c",
   "metadata": {},
   "outputs": [
    {
     "name": "stdout",
     "output_type": "stream",
     "text": [
      "nithu\n"
     ]
    }
   ],
   "source": [
    "name1=\"nithu\"\n",
    "print(name1)"
   ]
  },
  {
   "cell_type": "code",
   "execution_count": null,
   "id": "23d9f891",
   "metadata": {},
   "outputs": [],
   "source": [
    "3. variable name should not contain any special character:(@ $ %  &)"
   ]
  },
  {
   "cell_type": "code",
   "execution_count": 22,
   "id": "a6ae965b",
   "metadata": {},
   "outputs": [
    {
     "ename": "SyntaxError",
     "evalue": "invalid syntax (<ipython-input-22-f82d8529a4b5>, line 2)",
     "output_type": "error",
     "traceback": [
      "\u001b[1;36m  File \u001b[1;32m\"<ipython-input-22-f82d8529a4b5>\"\u001b[1;36m, line \u001b[1;32m2\u001b[0m\n\u001b[1;33m    print(name@)\u001b[0m\n\u001b[1;37m               ^\u001b[0m\n\u001b[1;31mSyntaxError\u001b[0m\u001b[1;31m:\u001b[0m invalid syntax\n"
     ]
    }
   ],
   "source": [
    "name@=\"nithu\"\n",
    "print(name@)"
   ]
  },
  {
   "cell_type": "code",
   "execution_count": null,
   "id": "0944097e",
   "metadata": {},
   "outputs": [],
   "source": [
    "INTRODUCTION TO DATA TYPE IN PYTHON:\n",
    "    string------ str\n",
    "    number------ int(intiger)&float(decimal)\n",
    "    list  ------ list\n",
    "    tuple ------ tuple\n",
    "    dictionaries------ dict"
   ]
  },
  {
   "cell_type": "code",
   "execution_count": null,
   "id": "034dae47",
   "metadata": {},
   "outputs": [],
   "source": [
    "CLASSIFICATION OF DATA TYPE:\n",
    "    1.mutable data type (flixible) can change data\n",
    "    2.immutable data type (flixed) cannot change the data\n",
    "    "
   ]
  },
  {
   "cell_type": "code",
   "execution_count": null,
   "id": "c821b26f",
   "metadata": {},
   "outputs": [],
   "source": [
    "INTRODUCTION TO SRTING DATATYPE:\n",
    "    a string is a series of character enclose in quotes.\n",
    "    \n",
    "    classification: it is classified as a immutable data type\n",
    "        "
   ]
  },
  {
   "cell_type": "code",
   "execution_count": null,
   "id": "1e4ac7b6",
   "metadata": {},
   "outputs": [],
   "source": [
    "HOW TO DECLEAR A STRING (3) POSSIBLE WAYS.\n",
    "signle quote\n",
    "double quote\n",
    "triple quote"
   ]
  },
  {
   "cell_type": "code",
   "execution_count": 23,
   "id": "0c97fb13",
   "metadata": {},
   "outputs": [
    {
     "name": "stdout",
     "output_type": "stream",
     "text": [
      "nithu\n"
     ]
    }
   ],
   "source": [
    "name='nithu'   # single quote \n",
    "print(name)"
   ]
  },
  {
   "cell_type": "code",
   "execution_count": 25,
   "id": "21f40f3e",
   "metadata": {},
   "outputs": [
    {
     "name": "stdout",
     "output_type": "stream",
     "text": [
      "nithu\n"
     ]
    }
   ],
   "source": [
    "name1=\"nithu\"  #double quote\n",
    "print(name1)"
   ]
  },
  {
   "cell_type": "code",
   "execution_count": 26,
   "id": "f986bc9e",
   "metadata": {},
   "outputs": [
    {
     "name": "stdout",
     "output_type": "stream",
     "text": [
      "nuthu\n"
     ]
    }
   ],
   "source": [
    "name2 =\"\"\"nuthu\"\"\"   # triple quote\n",
    "print(name2)"
   ]
  },
  {
   "cell_type": "code",
   "execution_count": null,
   "id": "9780f3ef",
   "metadata": {},
   "outputs": [],
   "source": [
    "INTRODUCTION TO STRING METHODS:\n",
    "    *methods are built in program that are readily available to use in python.\n",
    "    "
   ]
  },
  {
   "cell_type": "code",
   "execution_count": 27,
   "id": "de587633",
   "metadata": {},
   "outputs": [
    {
     "data": {
      "text/plain": [
       "str"
      ]
     },
     "execution_count": 27,
     "metadata": {},
     "output_type": "execute_result"
    }
   ],
   "source": [
    "type(name)\n"
   ]
  },
  {
   "cell_type": "code",
   "execution_count": 28,
   "id": "c3eb9174",
   "metadata": {},
   "outputs": [
    {
     "data": {
      "text/plain": [
       "str"
      ]
     },
     "execution_count": 28,
     "metadata": {},
     "output_type": "execute_result"
    }
   ],
   "source": [
    "type(name2)\n"
   ]
  },
  {
   "cell_type": "code",
   "execution_count": null,
   "id": "1ba26b94",
   "metadata": {},
   "outputs": [],
   "source": []
  },
  {
   "cell_type": "code",
   "execution_count": null,
   "id": "cc2031b4",
   "metadata": {},
   "outputs": [],
   "source": []
  }
 ],
 "metadata": {
  "kernelspec": {
   "display_name": "Python 3",
   "language": "python",
   "name": "python3"
  },
  "language_info": {
   "codemirror_mode": {
    "name": "ipython",
    "version": 3
   },
   "file_extension": ".py",
   "mimetype": "text/x-python",
   "name": "python",
   "nbconvert_exporter": "python",
   "pygments_lexer": "ipython3",
   "version": "3.8.8"
  }
 },
 "nbformat": 4,
 "nbformat_minor": 5
}
